{
 "cells": [
  {
   "cell_type": "code",
   "execution_count": null,
   "id": "94467391",
   "metadata": {},
   "outputs": [],
   "source": [
    "import hashlib\n",
    "\n",
    "result = hashlib.sha256(\n",
    "    bytes(\"The quick brown fox jumps over the lazy dog\",'utf-8'))\n",
    "\n",
    "print(result.hexdigest())\n"
   ]
  },
  {
   "cell_type": "code",
   "execution_count": null,
   "id": "456409fd",
   "metadata": {},
   "outputs": [],
   "source": [
    "result = hashlib.sha256(\n",
    "    b'The quick brown fox jumps over the lazy dog')\n"
   ]
  },
  {
   "cell_type": "code",
   "execution_count": null,
   "id": "8ad6df11",
   "metadata": {},
   "outputs": [],
   "source": [
    "result = hashlib.sha256(\n",
    "    b'The quick brown fox jumps over the lazy dag')\n",
    "print(result.hexdigest())"
   ]
  },
  {
   "cell_type": "code",
   "execution_count": null,
   "id": "2616d585",
   "metadata": {},
   "outputs": [],
   "source": [
    "pip install cryptography"
   ]
  },
  {
   "cell_type": "code",
   "execution_count": null,
   "id": "6891d791",
   "metadata": {},
   "outputs": [],
   "source": [
    "from cryptography.fernet import Fernet\n",
    "\n",
    "# generate the shared key\n",
    "shared_key = Fernet.generate_key()\n",
    "print(shared_key)    \n",
    "\n",
    "# base64 encoded, binary format\n",
    "# A new key is generated each time you run this block of code\n",
    "# e.g. b'ixXEfrz2NTJlxy1OhxXlsCiFf0Ycg_GL0Cy0MlgTv4U='"
   ]
  },
  {
   "cell_type": "code",
   "execution_count": null,
   "id": "f419f454",
   "metadata": {},
   "outputs": [],
   "source": [
    "# create an instance of the Fernet class\n",
    "fernet = Fernet(shared_key)\n"
   ]
  },
  {
   "cell_type": "code",
   "execution_count": null,
   "id": "938542f9",
   "metadata": {},
   "outputs": [],
   "source": [
    "# encrypt the message with the shared key\n",
    "ciphertext = fernet.encrypt(\n",
    "    bytes(\"Secret message!\",'utf-8'))  # remember to pass in a bytes \n",
    "                                       # array"
   ]
  },
  {
   "cell_type": "code",
   "execution_count": null,
   "id": "5c981188",
   "metadata": {},
   "outputs": [],
   "source": [
    "# write the encrypted message to file\n",
    "with open('message.encrypted', 'wb') as f:\n",
    "    f.write(ciphertext)\n"
   ]
  },
  {
   "cell_type": "code",
   "execution_count": null,
   "id": "bca9143e",
   "metadata": {},
   "outputs": [],
   "source": [
    "# write the shared key to file\n",
    "with open('symmetric_key.crypt', 'wb') as f:\n",
    "    f.write(shared_key)\n"
   ]
  },
  {
   "cell_type": "code",
   "execution_count": null,
   "id": "b31787ce",
   "metadata": {},
   "outputs": [],
   "source": [
    "with open('symmetric_key.crypt', 'rb') as f:\n",
    "    shared_key = f.read()\n",
    "print(shared_key)\n"
   ]
  },
  {
   "cell_type": "code",
   "execution_count": null,
   "id": "afe1182b",
   "metadata": {},
   "outputs": [],
   "source": [
    "# create an instance of the Fernet class\n",
    "fernet = Fernet(shared_key)# decrypt the encrypted message read from file\n",
    "with open('message.encrypted', 'rb') as f:\n",
    "    print(fernet.decrypt(f.read()).decode(\"utf-8\"))\n"
   ]
  },
  {
   "cell_type": "code",
   "execution_count": null,
   "id": "7941b4e3",
   "metadata": {},
   "outputs": [],
   "source": [
    "from cryptography.hazmat.backends import default_backend\n",
    "from cryptography.hazmat.primitives.asymmetric import rsa\n",
    "\n",
    "# generate the private key\n",
    "private_key = rsa.generate_private_key(\n",
    "    public_exponent=65537,\n",
    "    key_size=2048,\n",
    "    backend=default_backend()\n",
    ")\n",
    "\n",
    "# derive the public key from the private key \n",
    "public_key = private_key.public_key()"
   ]
  },
  {
   "cell_type": "code",
   "execution_count": null,
   "id": "ec69ef99",
   "metadata": {},
   "outputs": [],
   "source": [
    "from cryptography.hazmat.primitives import serialization\n",
    "\n",
    "#---serialize the private key as bytes---\n",
    "pem = private_key.private_bytes(\n",
    "    encoding = serialization.Encoding.PEM,\n",
    "    format = serialization.PrivateFormat.PKCS8,\n",
    "    encryption_algorithm = serialization.NoEncryption()\n",
    ")\n",
    "with open('private_key.pem', 'wb') as f:\n",
    "    f.write(pem)\n",
    "        \n",
    "#---serialize the public key as bytes---\n",
    "pem = public_key.public_bytes(\n",
    "    encoding = serialization.Encoding.PEM,\n",
    "    format = serialization.PublicFormat.SubjectPublicKeyInfo\n",
    ")\n",
    "\n",
    "with open('public_key.pem', 'wb') as f:\n",
    "    f.write(pem)"
   ]
  },
  {
   "cell_type": "code",
   "execution_count": null,
   "id": "d6e42b35",
   "metadata": {},
   "outputs": [],
   "source": [
    "with open('private_key.pem', 'rb') as f:\n",
    "    private_key = serialization.load_pem_private_key(\n",
    "        f.read(),\n",
    "        password = None,\n",
    "        backend = default_backend()\n",
    "    )\n",
    "    \n",
    "with open('public_key.pem', 'rb') as f:\n",
    "    public_key = serialization.load_pem_public_key(\n",
    "        f.read(),\n",
    "        backend = default_backend()\n",
    "    )"
   ]
  },
  {
   "cell_type": "code",
   "execution_count": null,
   "id": "4c5d4373",
   "metadata": {},
   "outputs": [],
   "source": [
    "from cryptography.hazmat.primitives import hashes\n",
    "from cryptography.hazmat.primitives.asymmetric import padding\n",
    "\n",
    "plaintext = bytes(\"This message is secret.\",'utf-8')\n",
    "\n",
    "# encrypt the message using the public key\n",
    "ciphertext = public_key.encrypt(\n",
    "    plaintext,\n",
    "    padding.OAEP(\n",
    "        mgf = padding.MGF1(algorithm = hashes.SHA256()),\n",
    "        algorithm = hashes.SHA256(),\n",
    "        label = None\n",
    "    )\n",
    ")"
   ]
  },
  {
   "cell_type": "code",
   "execution_count": null,
   "id": "b1fe5d2f",
   "metadata": {},
   "outputs": [],
   "source": [
    "# decrypt using the private key\n",
    "plaintext = private_key.decrypt(\n",
    "    ciphertext,\n",
    "    padding.OAEP(\n",
    "        mgf = padding.MGF1(algorithm = hashes.SHA256()),\n",
    "        algorithm = hashes.SHA256(),\n",
    "        label = None\n",
    "    )\n",
    ")\n",
    "print(plaintext.decode('utf-8'))\n",
    "# This message is secret."
   ]
  },
  {
   "cell_type": "code",
   "execution_count": null,
   "id": "c299decb",
   "metadata": {},
   "outputs": [],
   "source": [
    "# private_key.encrypt(...)    # ERROR\n",
    "# AttributeError: '_RSAPrivateKey' object has no attribute 'encrypt'\n",
    "\n",
    "import base64\n",
    "\n",
    "plaintext = bytes(\"This message is public.\",'utf-8')\n",
    "\n",
    "# sign the message using the private key\n",
    "signed = private_key.sign(\n",
    "    plaintext,\n",
    "    padding.PSS(\n",
    "        mgf = padding.MGF1(algorithm=hashes.SHA256()),\n",
    "        salt_length = padding.PSS.MAX_LENGTH\n",
    "    ),\n",
    "    hashes.SHA256()\n",
    ")\n",
    "\n",
    "# print out the digital signature using base64 encoding\n",
    "signed_base64 = base64.b64encode(signed).decode('utf-8')\n",
    "print(signed_base64)"
   ]
  },
  {
   "cell_type": "code",
   "execution_count": null,
   "id": "f4001021",
   "metadata": {},
   "outputs": [],
   "source": [
    "from cryptography.exceptions import InvalidSignature\n",
    "\n",
    "# decode the digital signature from base64\n",
    "signed = base64.b64decode(signed_base64)\n",
    "\n",
    "try:\n",
    "    public_key.verify(\n",
    "        signed,\n",
    "        plaintext,    # from the previous section\n",
    "        padding.PSS(\n",
    "            mgf = padding.MGF1(hashes.SHA256()),\n",
    "            salt_length = padding.PSS.MAX_LENGTH\n",
    "        ),\n",
    "        hashes.SHA256()\n",
    "    )\n",
    "    print('Signature is valid!')\n",
    "except InvalidSignature:\n",
    "    print('Signature is invalid!')"
   ]
  },
  {
   "cell_type": "code",
   "execution_count": null,
   "id": "51050feb",
   "metadata": {},
   "outputs": [],
   "source": []
  }
 ],
 "metadata": {
  "kernelspec": {
   "display_name": "Python 3 (ipykernel)",
   "language": "python",
   "name": "python3"
  },
  "language_info": {
   "codemirror_mode": {
    "name": "ipython",
    "version": 3
   },
   "file_extension": ".py",
   "mimetype": "text/x-python",
   "name": "python",
   "nbconvert_exporter": "python",
   "pygments_lexer": "ipython3",
   "version": "3.9.13"
  }
 },
 "nbformat": 4,
 "nbformat_minor": 5
}
