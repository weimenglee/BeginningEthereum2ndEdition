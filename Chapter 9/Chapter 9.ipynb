{
 "cells": [
  {
   "cell_type": "code",
   "execution_count": null,
   "id": "db93d8b4",
   "metadata": {},
   "outputs": [],
   "source": [
    "!pip install web3"
   ]
  },
  {
   "cell_type": "code",
   "execution_count": null,
   "id": "30d31008",
   "metadata": {},
   "outputs": [],
   "source": [
    "from web3 import Web3\n",
    "\n",
    "w3 = Web3(Web3.HTTPProvider(\n",
    "    'https://goerli.infura.io/v3/<Project_ID>'))\n",
    "w3.isConnected()"
   ]
  },
  {
   "cell_type": "code",
   "execution_count": null,
   "id": "d9df92d1",
   "metadata": {},
   "outputs": [],
   "source": [
    "w3.eth.get_block_number()"
   ]
  },
  {
   "cell_type": "code",
   "execution_count": null,
   "id": "8d67eee5",
   "metadata": {},
   "outputs": [],
   "source": [
    "block = w3.eth.get_block('latest')\n",
    "block"
   ]
  },
  {
   "cell_type": "code",
   "execution_count": null,
   "id": "64ac01e0",
   "metadata": {},
   "outputs": [],
   "source": [
    "block.number"
   ]
  },
  {
   "cell_type": "code",
   "execution_count": null,
   "id": "0a8f6579",
   "metadata": {},
   "outputs": [],
   "source": [
    "!pip install python-dotenv"
   ]
  },
  {
   "cell_type": "code",
   "execution_count": null,
   "id": "ec104705",
   "metadata": {},
   "outputs": [],
   "source": [
    "from dotenv import load_dotenv\n",
    "import os \n",
    "\n",
    "load_dotenv()\n",
    "\n",
    "# Account 1\n",
    "account1_address = '0xAF8b6CA21023A595F0C4919b8B4a9d1F0c1773e7'\n",
    "account1_private_key = os.environ.get('account1_private_key')\n",
    "\n",
    "# Account 2\n",
    "account2_address = '0x63eE1AEb74c52f09EaB6a2825bB1918B5e045050'"
   ]
  },
  {
   "cell_type": "code",
   "execution_count": null,
   "id": "82fd7627",
   "metadata": {},
   "outputs": [],
   "source": [
    "w3.eth.get_balance(account1_address)"
   ]
  },
  {
   "cell_type": "code",
   "execution_count": null,
   "id": "a93f4fb6",
   "metadata": {},
   "outputs": [],
   "source": [
    "nonce = w3.eth.get_transaction_count(account1_address)\n",
    "tx = {\n",
    "    'nonce': nonce,                      # transaction count\n",
    "    'to': account2_address,              # who to send the ETH to\n",
    "    'value': w3.toWei(1000, 'wei'),      # the amount to transfer\n",
    "    'gasPrice': w3.eth.gas_price,        # get the price of gas\n",
    "}"
   ]
  },
  {
   "cell_type": "code",
   "execution_count": null,
   "id": "608bb9d4",
   "metadata": {},
   "outputs": [],
   "source": [
    "gas = w3.eth.estimate_gas(tx)\n",
    "tx['gas'] = gas\n",
    "print(tx)"
   ]
  },
  {
   "cell_type": "code",
   "execution_count": null,
   "id": "94f096cc",
   "metadata": {},
   "outputs": [],
   "source": [
    "signed_tx = w3.eth.account.sign_transaction(tx,account1_private_key)"
   ]
  },
  {
   "cell_type": "code",
   "execution_count": null,
   "id": "f189694d",
   "metadata": {},
   "outputs": [],
   "source": [
    "tx_hash = w3.eth.send_raw_transaction(signed_tx.rawTransaction)\n",
    "print(w3.toHex(tx_hash))"
   ]
  },
  {
   "cell_type": "code",
   "execution_count": null,
   "id": "03cd8f24",
   "metadata": {},
   "outputs": [],
   "source": [
    "receipt = w3.eth.wait_for_transaction_receipt(tx_hash)"
   ]
  },
  {
   "cell_type": "code",
   "execution_count": null,
   "id": "e416313b",
   "metadata": {},
   "outputs": [],
   "source": [
    "print(w3.eth.get_balance(account1_address))\n",
    "print(w3.eth.get_balance(account2_address))"
   ]
  },
  {
   "cell_type": "code",
   "execution_count": null,
   "id": "5bc41565",
   "metadata": {},
   "outputs": [],
   "source": [
    "nonce = w3.eth.get_transaction_count(account1_address)\n",
    "tx = {\n",
    "    'nonce': nonce,\n",
    "    'to': account2_address,\n",
    "    'value': w3.toWei(1000, 'wei'),\n",
    "    'gasPrice': w3.eth.gas_price,\n",
    "}\n",
    "gas = w3.eth.estimate_gas(tx)\n",
    "tx['gas'] = gas\n",
    "signed_tx = w3.eth.account.sign_transaction(tx,account1_private_key)\n",
    "tx_hash = w3.eth.send_raw_transaction(signed_tx.rawTransaction)\n",
    "\n",
    "print(w3.toHex(tx_hash))\n",
    "\n",
    "receipt = w3.eth.wait_for_transaction_receipt(tx_hash)"
   ]
  },
  {
   "cell_type": "code",
   "execution_count": null,
   "id": "61437022",
   "metadata": {},
   "outputs": [],
   "source": [
    "address = '0xC1B4338a54bE22067260bbA1e0B6F3d5c1E2E330'\n",
    "abi = '[  {   \"inputs\": [],   \"name\": \"cashOut\",   \"outputs\": [],   \"stateMutability\": \"nonpayable\",   \"type\": \"function\"  },  {   \"inputs\": [    {     \"internalType\": \"string\",     \"name\": \"document\",     \"type\": \"string\"    }   ],   \"name\": \"checkEduCredentials\",   \"outputs\": [],   \"stateMutability\": \"payable\",   \"type\": \"function\"  },  {   \"inputs\": [],   \"name\": \"kill\",   \"outputs\": [],   \"stateMutability\": \"nonpayable\",   \"type\": \"function\"  },  {   \"anonymous\": false,   \"inputs\": [    {     \"indexed\": false,     \"internalType\": \"address\",     \"name\": \"from\",     \"type\": \"address\"    },    {     \"indexed\": false,     \"internalType\": \"string\",     \"name\": \"document\",     \"type\": \"string\"    },    {     \"indexed\": false,     \"internalType\": \"uint256\",     \"name\": \"blockNumber\",     \"type\": \"uint256\"    }   ],   \"name\": \"Result\",   \"type\": \"event\"  },  {   \"inputs\": [    {     \"internalType\": \"string\",     \"name\": \"document\",     \"type\": \"string\"    }   ],   \"name\": \"storeEduCredentials\",   \"outputs\": [],   \"stateMutability\": \"nonpayable\",   \"type\": \"function\"  } ]'\n",
    "eduCredentialsStore = w3.eth.contract(address = address, abi = abi)"
   ]
  },
  {
   "cell_type": "code",
   "execution_count": null,
   "id": "b9746b59",
   "metadata": {},
   "outputs": [],
   "source": [
    "import base64\n",
    "\n",
    "def base64encode(message):\n",
    "    message_bytes = message.encode('ascii')\n",
    "    base64_bytes = base64.b64encode(message_bytes)\n",
    "    return base64_bytes.decode('ascii')"
   ]
  },
  {
   "cell_type": "code",
   "execution_count": null,
   "id": "897dbef7",
   "metadata": {},
   "outputs": [],
   "source": [
    "exam_result = '''\n",
    "{\n",
    "  \"id\": \"1234567\",\n",
    "  \"result\": {\n",
    "    \"math\": \"A\",\n",
    "    \"science\": \"B\",\n",
    "    \"english\": \"A\"\n",
    "  }\n",
    "}\n",
    "'''\n",
    "\n",
    "exam_result = base64encode(exam_result)\n",
    "nonce = w3.eth.get_transaction_count(account1_address)\n",
    "\n",
    "# estimate the gas fee\n",
    "estimated_gas = \\\n",
    "    eduCredentialsStore.functions.storeEduCredentials(\n",
    "        exam_result).estimateGas(\n",
    "            {'from':account1_address})\n",
    "\n",
    "# build the transaction\n",
    "transaction = \\\n",
    "  eduCredentialsStore.functions.storeEduCredentials(\n",
    "    exam_result).buildTransaction(\n",
    "    {\n",
    "        'gas': estimated_gas,\n",
    "        'gasPrice': w3.eth.gas_price,\n",
    "        'from': account1_address,\n",
    "        'nonce': nonce\n",
    "    })\n",
    "\n",
    "# sign the transaction\n",
    "signed_txn = w3.eth.account.sign_transaction(\n",
    "    transaction, private_key = account1_private_key)\n",
    "\n",
    "# send the transaction\n",
    "tx_hash = w3.eth.send_raw_transaction(signed_txn.rawTransaction)\n",
    "print(w3.toHex(tx_hash))\n",
    "\n",
    "# wait for the transaction to confirm\n",
    "receipt = w3.eth.wait_for_transaction_receipt(tx_hash)\n",
    "receipt"
   ]
  },
  {
   "cell_type": "code",
   "execution_count": null,
   "id": "f3f0d0ec",
   "metadata": {},
   "outputs": [],
   "source": [
    "exam_result = '''\n",
    "{\n",
    "  \"id\": \"1234567000\",\n",
    "  \"result\": {\n",
    "    \"math\": \"A\",\n",
    "    \"science\": \"B\",\n",
    "    \"english\": \"A\"\n",
    "  }\n",
    "}\n",
    "'''\n",
    "exam_result = base64encode(exam_result)\n",
    "\n",
    "nonce = w3.eth.getTransactionCount(account1_address)\n",
    "\n",
    "# -------------------------------------------------\n",
    "# do this if there is no transaction involved with the function\n",
    "# eduCredentialsStore.functions.checkEduCredentials(exam_result).call()\n",
    "# -------------------------------------------------\n",
    "\n",
    "# estimate the gas fee\n",
    "estimated_gas = eduCredentialsStore.functions.checkEduCredentials(\n",
    "                    exam_result).estimateGas(\n",
    "                        { 'value' : 1000 } \n",
    "                    )  # 1000 is the wei to send                                     \n",
    "    \n",
    "# build the transaction\n",
    "transaction = eduCredentialsStore.functions.checkEduCredentials(\n",
    "    exam_result).buildTransaction(\n",
    "    {\n",
    "        'gas'      : estimated_gas,\n",
    "        'gasPrice' : w3.eth.gas_price,\n",
    "        'from'     : account1_address,\n",
    "        'nonce'    : nonce,\n",
    "        'value'    : w3.toWei(1000, 'wei'),   # amount to send to the \n",
    "    })                                        # function\n",
    "\n",
    "# sign the transaction\n",
    "signed_txn = w3.eth.account.sign_transaction(transaction, \n",
    "             private_key = account1_private_key)\n",
    "\n",
    "# send the transaction\n",
    "tx_hash = w3.eth.send_raw_transaction(signed_txn.rawTransaction)\n",
    "print(w3.toHex(tx_hash))\n",
    "\n",
    "import time\n",
    "\n",
    "# create an instance of the event\n",
    "result_event = eduCredentialsStore.events.Result()\n",
    "\n",
    "def handle_event(event):\n",
    "    receipt = \\\n",
    "       w3.eth.wait_for_transaction_receipt(event['transactionHash'])\n",
    "    result = result_event.processReceipt(receipt)    \n",
    "    \n",
    "    # print the content of the Result event\n",
    "    print(result)\n",
    "    if result[0]['args']['blockNumber'] != 0:\n",
    "        print('Result is verified.')\n",
    "    else:\n",
    "        print('Result not found on blockchain.')\n",
    "    return True\n",
    "\n",
    "def log_loop(event_filter, poll_interval):\n",
    "    while True:\n",
    "        for event in event_filter.get_new_entries():\n",
    "            result = handle_event(event)\n",
    "            if result == True: \n",
    "                return\n",
    "            time.sleep(poll_interval)\n",
    "            \n",
    "block_filter = w3.eth.filter(\n",
    "    {\n",
    "        'fromBlock' : 'latest', \n",
    "        'address'   : address       # address of contract\n",
    "    })\n",
    "\n",
    "log_loop(block_filter, 2)"
   ]
  },
  {
   "cell_type": "code",
   "execution_count": null,
   "id": "f9475327",
   "metadata": {},
   "outputs": [],
   "source": []
  }
 ],
 "metadata": {
  "kernelspec": {
   "display_name": "Python 3 (ipykernel)",
   "language": "python",
   "name": "python3"
  },
  "language_info": {
   "codemirror_mode": {
    "name": "ipython",
    "version": 3
   },
   "file_extension": ".py",
   "mimetype": "text/x-python",
   "name": "python",
   "nbconvert_exporter": "python",
   "pygments_lexer": "ipython3",
   "version": "3.9.13"
  }
 },
 "nbformat": 4,
 "nbformat_minor": 5
}
